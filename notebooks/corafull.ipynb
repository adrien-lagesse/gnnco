{
 "cells": [
  {
   "cell_type": "code",
   "execution_count": 3,
   "metadata": {
    "vscode": {
     "languageId": "python"
    }
   },
   "outputs": [],
   "source": [
    "import torch\n",
    "from torch_geometric.datasets import CoraFull\n",
    "import matplotlib.pyplot as plt\n",
    "import gnnco"
   ]
  },
  {
   "cell_type": "code",
   "execution_count": 5,
   "metadata": {
    "vscode": {
     "languageId": "python"
    }
   },
   "outputs": [],
   "source": [
    "CORAFULL_ROOT = \".tmp/CoraFull/\"\n",
    "cora_full_dataset = CoraFull(root=CORAFULL_ROOT)\n",
    "cora_full_graph = gnnco.SparseGraph(senders=cora_full_dataset[0].edge_index[0], receivers=cora_full_dataset[0].edge_index[1], order=1+ int(torch.max(cora_full_dataset[0].edge_index)))"
   ]
  },
  {
   "cell_type": "code",
   "execution_count": 9,
   "metadata": {
    "vscode": {
     "languageId": "python"
    }
   },
   "outputs": [],
   "source": [
    "model = gnnco.models.LaplacianEmbeddings(24)\n",
    "embeddings = model.forward(gnnco.BatchedSignals(signals=torch.ones((cora_full_graph.order(),1)), \n",
    "                                                batch =torch.zeros((cora_full_graph.order(),))),\n",
    "                           cora_full_graph.to_batch())"
   ]
  }
 ],
 "metadata": {
  "kernelspec": {
   "display_name": "Python 3 (ipykernel)",
   "language": "python",
   "name": "python3"
  },
  "language_info": {
   "name": "",
   "version": ""
  }
 },
 "nbformat": 4,
 "nbformat_minor": 2
}
